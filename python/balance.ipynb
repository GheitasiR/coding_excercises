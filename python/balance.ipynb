{
 "cells": [
  {
   "cell_type": "markdown",
   "metadata": {},
   "source": [
    "# Problem\n",
    "\n",
    "A set of different weights are placed at regular intervals on a plank. Assume the plank to be weightless and the weights to have round values (e.g. 1 Kg, 3 Kg...). The plank has slots where it can be pinned. The slots rest between the weights. An example plank would be:\n",
    "\n",
    "`` 1   3   1   8   5   4   8   1   <- the weights, equally spaced\n",
    "|==o===o===o===o===o===o===o==|  <- the plank, with holes for the pin\n",
    "   ^   ^   ^   ^   ^   ^   ^     <- available positions\n",
    "``\n",
    "\n",
    "Find the point where to pin the plank that best balances the plank (i.e. the total weight left and right of the selected point are as similar as possible)."
   ]
  },
  {
   "cell_type": "markdown",
   "metadata": {},
   "source": [
    "# Setup\n",
    "\n",
    "Our 'plank' will be a list of random integers. The problem does not state the limits of the weights (which we assume being positive) or the length of the plank (again, positive). As a first step we write a function that creates a new list filled with random integers. We'll set default values for all arguments to simplify our life later on.  \n",
    "To be able to pick random numbers we'll use the [random module](https://docs.python.org/3/library/random.html)"
   ]
  },
  {
   "cell_type": "code",
   "execution_count": 1,
   "metadata": {},
   "outputs": [
    {
     "name": "stdout",
     "output_type": "stream",
     "text": [
      "Here's my plank: [90, 51, 14, 15, 12, 18, 51, 38, 28, 28]\n"
     ]
    }
   ],
   "source": [
    "import random\n",
    "\n",
    "#a handy function to create a plank\n",
    "def get_plank(\n",
    "    min_weight = 0,\n",
    "    max_weight = 100,\n",
    "    plank_length = 10): #not to be confused with Planck length\n",
    "\n",
    "    #the function random.randint returns a single random integer.\n",
    "    #To fill a list we need to loop through it\n",
    "\n",
    "    return [random.randint(min_weight, max_weight) for iter in range(plank_length)]\n",
    "\n",
    "#let's test the function\n",
    "print(\"Here's my plank: \" + str(get_plank()))"
   ]
  },
  {
   "cell_type": "markdown",
   "metadata": {},
   "source": [
    "# A first, inefficient solution\n",
    "\n",
    "Our first, naive solution will go like this: for each possible position we compute the unbalancedness (difference between weights before and after the pin). We then select the position with the minimum unbalancedness.  \n",
    "\n",
    "To improve code reusability and testing, our solution goes into a function."
   ]
  },
  {
   "cell_type": "code",
   "execution_count": 2,
   "metadata": {},
   "outputs": [],
   "source": [
    "def balance1(plank):\n",
    "    #it's a matter of finding a minimum, so...\n",
    "    current_min_value = float(\"inf\")\n",
    "    current_min_pos   = None\n",
    "    \n",
    "    #I need to loop over spaces between weights.\n",
    "    #Unfortunately lists are indexed by cell, not by \"space between cell\", so...\n",
    "    for i in range(len(plank) - 1):\n",
    "        #computing the weights at the current position\n",
    "        weights_before = 0\n",
    "        weights_after  = 0\n",
    "        for j in range(len(plank)):\n",
    "            if j <= i:\n",
    "                weights_before += plank[j]\n",
    "            else:\n",
    "                weights_after += plank[j]\n",
    "        \n",
    "        #how balanced are we here? let's compute the difference\n",
    "        delta = abs(weights_before - weights_after)\n",
    "        \n",
    "        #should we update the minimum?\n",
    "        if delta < current_min_value:\n",
    "            current_min_value = delta\n",
    "            current_min_pos = i\n",
    "    \n",
    "    #and we are done\n",
    "    return current_min_pos, current_min_value"
   ]
  },
  {
   "cell_type": "markdown",
   "metadata": {},
   "source": [
    "Let's test the function!"
   ]
  },
  {
   "cell_type": "code",
   "execution_count": 3,
   "metadata": {},
   "outputs": [
    {
     "name": "stdout",
     "output_type": "stream",
     "text": [
      "Tested plank: [40, 64, 55, 38]\n",
      "Found balance after weight position: 1\n",
      "Residual unbalance: 11\n"
     ]
    }
   ],
   "source": [
    "#let's create a short plank, so it's easy to check the values by hand\n",
    "my_plank = get_plank(plank_length=4)\n",
    "\n",
    "#invoking the function\n",
    "pos, value = balance1(my_plank)\n",
    "\n",
    "#printing the results\n",
    "print('Tested plank: ' + str(my_plank))\n",
    "print('Found balance after weight position: ' + str(pos)) #this points to the space between slots\n",
    "print('Residual unbalance: ' + str(value))"
   ]
  },
  {
   "cell_type": "markdown",
   "metadata": {},
   "source": [
    "It seems to work, but what happens in a limit case?"
   ]
  },
  {
   "cell_type": "code",
   "execution_count": 4,
   "metadata": {},
   "outputs": [
    {
     "name": "stdout",
     "output_type": "stream",
     "text": [
      "Tested plank: [47]\n",
      "Found balance after weight position: None\n",
      "Residual unbalance: inf\n"
     ]
    }
   ],
   "source": [
    "#let's create a unitary plank...\n",
    "my_plank = get_plank(plank_length=1)\n",
    "\n",
    "#invoking the function\n",
    "pos, value = balance1(my_plank)\n",
    "\n",
    "#printing the results\n",
    "print('Tested plank: ' + str(my_plank))\n",
    "print('Found balance after weight position: ' + str(pos)) #this points to the space between slots\n",
    "print('Residual unbalance: ' + str(value))"
   ]
  },
  {
   "cell_type": "markdown",
   "metadata": {},
   "source": [
    "Well... it a single slot plank, so there's no way it can be balanced. We could either accept \"None\" as a valid response (\"it's not a bug, it's a feature!\") or tweak the function so it is initialized to the first position. Both solutions have their pros and cons, you decide what you prefer."
   ]
  },
  {
   "cell_type": "markdown",
   "metadata": {},
   "source": [
    "# A more efficient solution\n",
    "\n",
    "Our previous solution used a loop-within-a-loop, so the expected execution time scales with the square of the length of the the plank. But a lot of computation in that function is adding the same numbers again and again.\n",
    "\n",
    "Consider this: if you start from one extreme of the plank all the weight is \"after\" your selected point, e.g.:"
   ]
  },
  {
   "cell_type": "code",
   "execution_count": 5,
   "metadata": {},
   "outputs": [],
   "source": [
    "#   [a  b  c  d]\n",
    "# ^               all weight (a+b+c+d) is after the current position"
   ]
  },
  {
   "cell_type": "markdown",
   "metadata": {},
   "source": [
    "Then we do a step forward, and one slot is removed from the \"after\" bin and goes in the \"before\" bin"
   ]
  },
  {
   "cell_type": "code",
   "execution_count": 6,
   "metadata": {},
   "outputs": [],
   "source": [
    "#   [a  b  c  d]\n",
    "#     ^           before is (a), after is (b+c+d)"
   ]
  },
  {
   "cell_type": "markdown",
   "metadata": {},
   "source": [
    "If we can keep track of how the weight changes we don't need a loop-within-a-loop anymore. Let's implement it!"
   ]
  },
  {
   "cell_type": "code",
   "execution_count": 7,
   "metadata": {},
   "outputs": [],
   "source": [
    "def balance2(plank):\n",
    "    #at the beginning all weight is in the after bin\n",
    "    before_bin = 0\n",
    "    after_bin = sum(plank)\n",
    "    \n",
    "    #the current position is before slot zero, so...\n",
    "    current_min_value = abs(after_bin - before_bin)  #this is equal to after_bin\n",
    "    current_min_pos   = -1\n",
    "    \n",
    "    #we now implement the \"moving a step forward\" part. For each new position we\n",
    "    #remove something from after_bin and add it to before_bin. We also keep track\n",
    "    #of the found minimum\n",
    "    for i in range(len(plank)):\n",
    "        #updating the bins\n",
    "        before_bin += plank[i]\n",
    "        after_bin  -= plank[i]\n",
    "        \n",
    "        #let's compute current delta\n",
    "        delta = abs(after_bin - before_bin)\n",
    "        \n",
    "        #should we update the minimum?\n",
    "        if delta < current_min_value:\n",
    "            current_min_value = delta\n",
    "            current_min_pos = i\n",
    "\n",
    "    #and we are done\n",
    "    return current_min_pos, current_min_value"
   ]
  },
  {
   "cell_type": "markdown",
   "metadata": {},
   "source": [
    "Let's test the function, and let's compare results with the previous implementation."
   ]
  },
  {
   "cell_type": "code",
   "execution_count": 8,
   "metadata": {},
   "outputs": [
    {
     "name": "stdout",
     "output_type": "stream",
     "text": [
      "Tested plank: [57, 31, 15, 60, 53, 49, 0, 36, 74, 72, 18, 93, 63, 82, 88, 59, 11, 17, 65, 69]\n",
      "Returned balance point, residual unbalance:\n",
      "- for function balance1: 10, 82\n",
      "- for function balance2: 10, 82\n"
     ]
    }
   ],
   "source": [
    "#testing the functions on a new 20-slots plank\n",
    "my_plank = get_plank(plank_length = 20)\n",
    "print('Tested plank: ' + str(my_plank))\n",
    "\n",
    "#invoking the functions\n",
    "pos1, value1 = balance1(my_plank)\n",
    "pos2, value2 = balance2(my_plank)\n",
    "\n",
    "#printing the results\n",
    "print('Returned balance point, residual unbalance:')\n",
    "print('- for function balance1: ' + str(pos1) + ', ' + str(value1))\n",
    "print('- for function balance2: ' + str(pos2) + ', ' + str(value2))"
   ]
  },
  {
   "cell_type": "markdown",
   "metadata": {},
   "source": [
    "They return the same values. Good! Actually the results would differ in the limit case of a single-slot list..."
   ]
  },
  {
   "cell_type": "markdown",
   "metadata": {},
   "source": [
    "# Test performances\n",
    "\n",
    "The first function is supposed to be slower than the second one, but we should really test the hypothesis. We want to show how the execution time grows when the length of the plank grows.\n",
    "\n",
    "To measure execution times we use the [timeit module](https://docs.python.org/3.8/library/timeit.html)"
   ]
  },
  {
   "cell_type": "code",
   "execution_count": 9,
   "metadata": {},
   "outputs": [],
   "source": [
    "import timeit\n",
    "\n",
    "#we'll test the execution times at these lengths\n",
    "tested_lengths = [50, 100, 150, 200, 250, 300]\n",
    "\n",
    "#since execution times of the same code can vary, we actually execute\n",
    "#each function this number of times (and then take the average)\n",
    "R = 100\n",
    "\n",
    "#room for storing the results\n",
    "times1 = []\n",
    "times2 = []\n",
    "\n",
    "#let's go!\n",
    "for current_length in tested_lengths:\n",
    "    #let's build a test plank\n",
    "    my_plank = get_plank(plank_length = current_length)\n",
    "    \n",
    "    #let's invoke each function and record the execution time\n",
    "    #(the argument globals=globals() is to let the timeit function access our\n",
    "    #user-defined functions)\n",
    "    time1 = timeit.timeit(\"balance1(my_plank)\", number = R, globals=globals()) / R\n",
    "    time2 = timeit.timeit(\"balance2(my_plank)\", number = R, globals=globals()) / R\n",
    "\n",
    "    #keeping track of what we measured\n",
    "    times1.append(time1)\n",
    "    times2.append(time2)"
   ]
  },
  {
   "cell_type": "markdown",
   "metadata": {},
   "source": [
    "At this point we have two lists of measured times. We could print them..."
   ]
  },
  {
   "cell_type": "code",
   "execution_count": 10,
   "metadata": {},
   "outputs": [
    {
     "name": "stdout",
     "output_type": "stream",
     "text": [
      "Tested plank lengths:[50, 100, 150, 200, 250, 300]\n",
      "Execution times, function balance1:[0.0005846270100118999, 0.0009272612399945501, 0.002074938599998859, 0.0036507554600029835, 0.00579487634000543, 0.008353367969993997]\n",
      "Execution times, function balance2:[1.221298000018578e-05, 2.371668999330723e-05, 3.551879000951885e-05, 4.718547999800649e-05, 5.829432000609813e-05, 7.024829999863869e-05]\n"
     ]
    }
   ],
   "source": [
    "print('Tested plank lengths:' + str(tested_lengths))\n",
    "print('Execution times, function balance1:' + str(times1))\n",
    "print('Execution times, function balance2:' + str(times2))"
   ]
  },
  {
   "cell_type": "markdown",
   "metadata": {},
   "source": [
    "...but a picture is worth a thousand words. Let's plot the values using [matplotlib module.](https://matplotlib.org/3.1.1/index.html)"
   ]
  },
  {
   "cell_type": "code",
   "execution_count": 11,
   "metadata": {},
   "outputs": [
    {
     "data": {
      "image/png": "[encoded data removed]",
      "text/plain": [
       "<Figure size 432x288 with 1 Axes>"
      ]
     },
     "metadata": {
      "needs_background": "light"
     },
     "output_type": "display_data"
    }
   ],
   "source": [
    "import matplotlib.pyplot as plt\n",
    "\n",
    "line1, = plt.plot(tested_lengths, times1, label='balance1')\n",
    "line2, = plt.plot(tested_lengths, times2, label='balance2')\n",
    "\n",
    "plt.legend(handles=[line1, line2], loc='upper left')\n",
    "plt.xlabel('Length of plank')\n",
    "plt.ylabel('Average execution times (sec)')\n",
    "plt.show()"
   ]
  },
  {
   "cell_type": "markdown",
   "metadata": {},
   "source": [
    "There's little doubt about which is the most efficient approach. Actually ``balance2()`` performances are so much better that the execution times seem stuck to zero. To show the actual linear increase we need to get rid of ``balance1()`` from the plot."
   ]
  },
  {
   "cell_type": "code",
   "execution_count": 12,
   "metadata": {},
   "outputs": [
    {
     "data": {
      "image/png": "[encoded data removed]",
      "text/plain": [
       "<Figure size 432x288 with 1 Axes>"
      ]
     },
     "metadata": {
      "needs_background": "light"
     },
     "output_type": "display_data"
    }
   ],
   "source": [
    "line2, = plt.plot(tested_lengths, times2, label='balance2')\n",
    "plt.legend(handles=[line2], loc='upper left')\n",
    "plt.xlabel('Length of plank')\n",
    "plt.ylabel('Average execution times (sec)')\n",
    "plt.show()"
   ]
  },
  {
   "cell_type": "markdown",
   "metadata": {},
   "source": [
    "It's clear that execution times are growing linearly, as expected. Awesome :)"
   ]
  },
  {
   "cell_type": "markdown",
   "metadata": {},
   "source": [
    "# Next steps...\n",
    "\n",
    "In this excercise we've worked with lists, loops, functions, execution times and plots. While we have a solid solution to the initial problem there's always room for improvement. Consider:\n",
    "\n",
    "- how to further improve ``balance2()`` function? Do we really need the full loop? Could we use an early break?\n",
    "- what happens if we have *magical weights* that can be negative? Does it change anything?\n",
    "- what about boards? That is, what happens if instead of a 1-dimensional list we have a 2-dimensional matrix? How would the balance point be redefined?\n",
    "\n",
    "\n"
   ]
  }
 ],
 "metadata": {
  "kernelspec": {
   "display_name": "Python 3",
   "language": "python",
   "name": "python3"
  },
  "language_info": {
   "codemirror_mode": {
    "name": "ipython",
    "version": 3
   },
   "file_extension": ".py",
   "mimetype": "text/x-python",
   "name": "python",
   "nbconvert_exporter": "python",
   "pygments_lexer": "ipython3",
   "version": "3.8.2"
  }
 },
 "nbformat": 4,
 "nbformat_minor": 4
}

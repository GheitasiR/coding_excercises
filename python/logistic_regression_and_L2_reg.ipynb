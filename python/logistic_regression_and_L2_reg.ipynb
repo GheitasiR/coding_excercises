{
 "cells": [
  {
   "cell_type": "markdown",
   "metadata": {},
   "source": [
    "# Assignment\n",
    "\n",
    "Do logistic regression on the famous Iris dataset. Explore the effect of kernel regularization."
   ]
  },
  {
   "cell_type": "markdown",
   "metadata": {},
   "source": [
    "# Setup\n",
    "To be written"
   ]
  },
  {
   "cell_type": "code",
   "execution_count": 1,
   "metadata": {},
   "outputs": [],
   "source": [
    "import random\n",
    "random.seed(99)"
   ]
  },
  {
   "cell_type": "code",
   "execution_count": 2,
   "metadata": {},
   "outputs": [],
   "source": [
    "import sklearn.datasets\n",
    "#https://scikit-learn.org/stable/modules/generated/sklearn.datasets.load_iris.html#sklearn.datasets.load_iris\n",
    "iris = sklearn.datasets.load_iris(return_X_y = False, as_frame = True)"
   ]
  },
  {
   "cell_type": "code",
   "execution_count": 3,
   "metadata": {},
   "outputs": [],
   "source": [
    "#uncomment to see a detailed description of the Iris dataset\n",
    "#print(iris.DESCR)"
   ]
  },
  {
   "cell_type": "code",
   "execution_count": 4,
   "metadata": {},
   "outputs": [
    {
     "name": "stdout",
     "output_type": "stream",
     "text": [
      "(150, 4)\n",
      "     sepal length (cm)  sepal width (cm)  petal length (cm)  petal width (cm)\n",
      "0                  5.1               3.5                1.4               0.2\n",
      "1                  4.9               3.0                1.4               0.2\n",
      "2                  4.7               3.2                1.3               0.2\n",
      "3                  4.6               3.1                1.5               0.2\n",
      "4                  5.0               3.6                1.4               0.2\n",
      "..                 ...               ...                ...               ...\n",
      "145                6.7               3.0                5.2               2.3\n",
      "146                6.3               2.5                5.0               1.9\n",
      "147                6.5               3.0                5.2               2.0\n",
      "148                6.2               3.4                5.4               2.3\n",
      "149                5.9               3.0                5.1               1.8\n",
      "\n",
      "[150 rows x 4 columns]\n"
     ]
    }
   ],
   "source": [
    "print(iris.data.shape)\n",
    "print(iris.data)"
   ]
  },
  {
   "cell_type": "code",
   "execution_count": 5,
   "metadata": {},
   "outputs": [
    {
     "name": "stdout",
     "output_type": "stream",
     "text": [
      "(150,)\n",
      "['setosa' 'versicolor' 'virginica']\n"
     ]
    },
    {
     "data": {
      "text/plain": [
       "Counter({0: 50, 1: 50, 2: 50})"
      ]
     },
     "execution_count": 5,
     "metadata": {},
     "output_type": "execute_result"
    }
   ],
   "source": [
    "print(iris.target.shape)\n",
    "print(iris.target_names)\n",
    "\n",
    "#using Counter object to print a tally of the classes\n",
    "from collections import Counter\n",
    "Counter(iris.target)"
   ]
  },
  {
   "cell_type": "code",
   "execution_count": 6,
   "metadata": {},
   "outputs": [
    {
     "data": {
      "image/png": "[encoded data removed]",
      "text/plain": [
       "<Figure size 432x288 with 1 Axes>"
      ]
     },
     "metadata": {
      "needs_background": "light"
     },
     "output_type": "display_data"
    }
   ],
   "source": [
    "#change these two values to plot different features\n",
    "feature_x = 0\n",
    "feature_y = 1\n",
    "\n",
    "#old reliable pyplot!\n",
    "import matplotlib.pyplot as plt\n",
    "\n",
    "#starting a new plot\n",
    "fig, ax = plt.subplots()\n",
    "\n",
    "#adding data in three bunches of 50, once per class\n",
    "ax.scatter(x=iris.data.iloc[0:50,feature_x],    y=iris.data.iloc[0:50,feature_y],    c='red',   label=iris.target_names[0])\n",
    "ax.scatter(x=iris.data.iloc[50:100,feature_x],  y=iris.data.iloc[50:100,feature_y],  c='green', label=iris.target_names[1])\n",
    "ax.scatter(x=iris.data.iloc[100:150,feature_x], y=iris.data.iloc[100:150,feature_y], c='blue',  label=iris.target_names[2])\n",
    "\n",
    "#the axis names are taken from feature names\n",
    "ax.set_xlabel(iris.feature_names[feature_x])\n",
    "ax.set_ylabel(iris.feature_names[feature_y])\n",
    "\n",
    "#adding the legend and printing the plot\n",
    "ax.legend()\n",
    "plt.show()"
   ]
  },
  {
   "cell_type": "code",
   "execution_count": 7,
   "metadata": {},
   "outputs": [],
   "source": [
    "#simplifly the problem: less classes, less variables\n",
    "features = iris.data.iloc[:, 0:2]\n",
    "target = iris.target\n",
    "target[50:100] = 0 #this makes things difficult. For an easier problems set versicolor as virginica"
   ]
  },
  {
   "cell_type": "code",
   "execution_count": 8,
   "metadata": {},
   "outputs": [
    {
     "name": "stdout",
     "output_type": "stream",
     "text": [
      "Counter({0: 100})\n"
     ]
    }
   ],
   "source": [
    "#selecting the first 100 samples for training would be a bad choice...\n",
    "print(Counter(iris.target[0:100]))"
   ]
  },
  {
   "cell_type": "code",
   "execution_count": 9,
   "metadata": {},
   "outputs": [
    {
     "name": "stdout",
     "output_type": "stream",
     "text": [
      "(120, 2)\n",
      "(30, 2)\n",
      "(120,)\n",
      "(30,)\n"
     ]
    }
   ],
   "source": [
    "#TRAIN/TEST SETS\n",
    "#I want to have the same proportion of classes in both train and test sets\n",
    "\n",
    "#https://scikit-learn.org/stable/modules/generated/sklearn.model_selection.StratifiedShuffleSplit.html\n",
    "from sklearn.model_selection import StratifiedShuffleSplit\n",
    "sss = StratifiedShuffleSplit(n_splits=2, test_size=0.2, random_state=0)\n",
    "\n",
    "for train_index, test_index in sss.split(features, target):\n",
    "    features_train = features.iloc[train_index, :]\n",
    "    features_test = features.iloc[test_index, :]\n",
    "    target_train = target[train_index]\n",
    "    target_test = target[test_index]\n",
    "    \n",
    "print(features_train.shape)\n",
    "print(features_test.shape)\n",
    "print(target_train.shape)\n",
    "print(target_test.shape)"
   ]
  },
  {
   "cell_type": "code",
   "execution_count": 10,
   "metadata": {},
   "outputs": [
    {
     "name": "stdout",
     "output_type": "stream",
     "text": [
      "Epoch 1/10\n",
      "4/4 [==============================] - 0s 35ms/step - loss: 2.1368 - val_loss: 2.1403\n",
      "Epoch 2/10\n",
      "4/4 [==============================] - 0s 7ms/step - loss: 2.0928 - val_loss: 2.1034\n",
      "Epoch 3/10\n",
      "4/4 [==============================] - 0s 6ms/step - loss: 2.0593 - val_loss: 2.0718\n",
      "Epoch 4/10\n",
      "4/4 [==============================] - 0s 6ms/step - loss: 2.0302 - val_loss: 2.0431\n",
      "Epoch 5/10\n",
      "4/4 [==============================] - 0s 7ms/step - loss: 2.0037 - val_loss: 2.0166\n",
      "Epoch 6/10\n",
      "4/4 [==============================] - 0s 7ms/step - loss: 1.9776 - val_loss: 1.9893\n",
      "Epoch 7/10\n",
      "4/4 [==============================] - 0s 7ms/step - loss: 1.9520 - val_loss: 1.9637\n",
      "Epoch 8/10\n",
      "4/4 [==============================] - 0s 7ms/step - loss: 1.9271 - val_loss: 1.9373\n",
      "Epoch 9/10\n",
      "4/4 [==============================] - 0s 7ms/step - loss: 1.9021 - val_loss: 1.9119\n",
      "Epoch 10/10\n",
      "4/4 [==============================] - 0s 7ms/step - loss: 1.8781 - val_loss: 1.8865\n"
     ]
    }
   ],
   "source": [
    "#https://www.tensorflow.org/guide/keras/train_and_evaluate\n",
    "from keras.models import Sequential\n",
    "from keras.layers import Dense\n",
    "\n",
    "# 2-class logistic regression in Keras\n",
    "model = Sequential()\n",
    "model.add(Dense(1, activation='sigmoid', input_dim=features_train.shape[1]))\n",
    "model.compile(optimizer='rmsprop', loss='binary_crossentropy')\n",
    "history = model.fit(features_train, target_train, epochs=10, validation_data=(features_test, target_test))"
   ]
  },
  {
   "cell_type": "code",
   "execution_count": 11,
   "metadata": {},
   "outputs": [],
   "source": [
    "#take a look at losses evolution\n",
    "def plot_loss_history(h, title):\n",
    "    plt.plot(h.history['loss'], label = \"Train loss\")\n",
    "    plt.plot(h.history['val_loss'], label = \"Validation loss\")\n",
    "    plt.xlabel('Epochs')\n",
    "    plt.title(title)\n",
    "    plt.legend()\n",
    "    plt.show()"
   ]
  },
  {
   "cell_type": "code",
   "execution_count": 12,
   "metadata": {},
   "outputs": [
    {
     "data": {
      "image/png": "[encoded data removed]",
      "text/plain": [
       "<Figure size 432x288 with 1 Axes>"
      ]
     },
     "metadata": {
      "needs_background": "light"
     },
     "output_type": "display_data"
    }
   ],
   "source": [
    "plot_loss_history(history, 'Logistic (10 epochs)')"
   ]
  },
  {
   "cell_type": "code",
   "execution_count": 13,
   "metadata": {},
   "outputs": [],
   "source": [
    "#loss just goes down, we can keep training (whithout recompiling)\n",
    "#putting verbose to 0 to avoid filling the screen\n",
    "history2 = model.fit(features_train, target_train, epochs=490, \n",
    "                     validation_data=(features_test, target_test), verbose=0)"
   ]
  },
  {
   "cell_type": "code",
   "execution_count": 14,
   "metadata": {},
   "outputs": [
    {
     "data": {
      "image/png": "[encoded data removed]",
      "text/plain": [
       "<Figure size 432x288 with 1 Axes>"
      ]
     },
     "metadata": {
      "needs_background": "light"
     },
     "output_type": "display_data"
    }
   ],
   "source": [
    "#putting together the whole history...\n",
    "history.history['loss'] += history2.history['loss']\n",
    "history.history['val_loss'] += history2.history['val_loss']\n",
    "\n",
    "#...and plotting again!\n",
    "plot_loss_history(history, 'Logistic (500 epochs)')"
   ]
  },
  {
   "cell_type": "code",
   "execution_count": 15,
   "metadata": {},
   "outputs": [],
   "source": [
    "do_10000_epochs = False"
   ]
  },
  {
   "cell_type": "code",
   "execution_count": 16,
   "metadata": {},
   "outputs": [],
   "source": [
    "#what happens if we keep going for a (very) long time?\n",
    "if (do_10000_epochs):\n",
    "    #train for 10000 epochs, just to show how the model evolves\n",
    "    history3 = model.fit(features_train, target_train, epochs=9500, \n",
    "                         validation_data=(features_test, target_test), verbose=0)\n",
    "\n",
    "    #putting together the whole history\n",
    "    history.history['loss'] += history3.history['loss']\n",
    "    history.history['val_loss'] += history3.history['val_loss']\n",
    "\n",
    "    #and plotting again\n",
    "    plot_loss_history(history, 'Logistic (10000 epochs)')"
   ]
  },
  {
   "cell_type": "markdown",
   "metadata": {},
   "source": [
    "![regression_10000_epochs](../data/regression_loss10000.png \"regression_10000_epochs\")"
   ]
  },
  {
   "cell_type": "code",
   "execution_count": 17,
   "metadata": {},
   "outputs": [],
   "source": [
    "if (do_10000_epochs):\n",
    "    # logistic regression with L1 and L2 regularization\n",
    "    from tensorflow.keras import regularizers\n",
    "    model = Sequential()\n",
    "    model.add(Dense(1, activation='sigmoid', input_dim=features_train.shape[1], \n",
    "                    kernel_regularizer=regularizers.l1_l2(l1=1e-4, l2=1e-5)))\n",
    "    model.compile(optimizer='rmsprop', loss='binary_crossentropy')\n",
    "    history_reg = model.fit(features_train, target_train, epochs=10000, \n",
    "                            validation_data=(features_test, target_test), verbose=0)\n",
    "    #and plotting it\n",
    "    plot_loss_history(history_reg, 'Logistic + L1L2 reg (10000 epochs)')"
   ]
  },
  {
   "cell_type": "markdown",
   "metadata": {},
   "source": [
    "![regression_L1L2_10000_epochs](../data/regression_loss10000_regL1L2.png \"regression_L1L2_10000_epochs\")"
   ]
  },
  {
   "cell_type": "code",
   "execution_count": 18,
   "metadata": {},
   "outputs": [],
   "source": [
    "if (do_10000_epochs):\n",
    "    plt.plot(history.history['loss'], label = \"Train loss\")\n",
    "    plt.plot(history_reg.history['loss'], label = \"Train loss with regularization\")\n",
    "    plt.xlabel('Epochs')\n",
    "    plt.legend()\n",
    "    plt.show()\n",
    "\n",
    "    plt.plot(history.history['val_loss'], label = \"Validation loss\")\n",
    "    plt.plot(history_reg.history['val_loss'], label = \"Validation loss with regularization\")\n",
    "    plt.xlabel('Epochs')\n",
    "    plt.legend()\n",
    "    plt.show()"
   ]
  },
  {
   "cell_type": "markdown",
   "metadata": {},
   "source": [
    "![comparison_on_train_loss](../data/comparison_train_loss.png \"Comparison on train-set Loss\")\n",
    "![comparison_on_val_loss](../data/comparison_val_loss.png \"Comparison on validation-set Loss\")"
   ]
  },
  {
   "cell_type": "code",
   "execution_count": 19,
   "metadata": {},
   "outputs": [],
   "source": [
    "#implement logistic regression from scratch, without keras\n",
    "#https://towardsdatascience.com/a-logistic-regression-from-scratch-3824468b1f88"
   ]
  }
 ],
 "metadata": {
  "kernelspec": {
   "display_name": "Python 3",
   "language": "python",
   "name": "python3"
  },
  "language_info": {
   "codemirror_mode": {
    "name": "ipython",
    "version": 3
   },
   "file_extension": ".py",
   "mimetype": "text/x-python",
   "name": "python",
   "nbconvert_exporter": "python",
   "pygments_lexer": "ipython3",
   "version": "3.8.2"
  }
 },
 "nbformat": 4,
 "nbformat_minor": 4
}

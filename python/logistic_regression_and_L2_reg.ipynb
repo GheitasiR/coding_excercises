{
 "cells": [
  {
   "cell_type": "markdown",
   "metadata": {},
   "source": [
    "# Assignment\n",
    "\n",
    "Do [logistic regression](https://en.wikipedia.org/wiki/Logistic_regression) on the famous [Iris dataset](https://en.wikipedia.org/wiki/Iris_flower_data_set). For extra points explore the effect of [L1/L2 regularization](https://en.wikipedia.org/wiki/Regularization_(mathematics))."
   ]
  },
  {
   "cell_type": "markdown",
   "metadata": {},
   "source": [
    "# Setup\n",
    "The topics of this exercise are very famous and very well known, so a lot of educational material is available online. E.g., for logistic regression:\n",
    "\n",
    "* [Logistic regression @towardsdatascience](https://towardsdatascience.com/understanding-logistic-regression-9b02c2aec102)\n",
    "* [Logistic regression @Biochemia Medica](https://www.ncbi.nlm.nih.gov/pmc/articles/PMC3936971/)\n",
    "* [Logistic regression @datacamp](https://www.datacamp.com/community/tutorials/understanding-logistic-regression-python)\n",
    "\n",
    "Let's just frame the terms of the problem:\n",
    "* we are talking about **binary** classification: all samples belong to two classes (called 0 and 1). We want to build a statistical machine able to predict, for a new sample, the class\n",
    "* for each sample we have a set numbers, called **features**. The easiest-to-understand case is when these features are actual phyisical measurements, but any set of data will do\n",
    "* in **standard regression** we weight each feature with a number (positive or negative, big or small). We then multiply each feature times its weight and add everything...\n",
    "* ...but we cannot do that now, since the resulting number could be very big (positive big or negative big). But our desired result is a class! In other words our machine needs to produce either a zero or a one. Or maybe **all the numbers between zero and one**, so that we have an idea about how certain our prediction is\n",
    "* in fact, a 0.99 will show more confidence than a 0.8, which will be more confident than a 0.65, even if all three outputs at the end can be considered as \"class 1\" (since those numbers are closer to 1 than to 0) \n",
    "* to do so we feed what is produced by a regular regression into a **sigmoid function**, which looks like this:\n",
    "\n",
    "<img src=\"../data/Logistic-curve.png\" width=\"400\">\n",
    "\n",
    "This function takes in input any number from -infinity to +infinity and returns a value between zero and one. This will be our prediction. Let's start building the solution."
   ]
  },
  {
   "cell_type": "markdown",
   "metadata": {},
   "source": [
    "## Setting the random seed\n",
    "\n",
    "First of all, we setup the random seed to ensure reproducibility of results. Since tensorflow uses an internal random generator we need to fix both the general seed (via numpy `seed()`) and tensorflow seed (via `set_seet()`)"
   ]
  },
  {
   "cell_type": "code",
   "execution_count": 1,
   "metadata": {},
   "outputs": [],
   "source": [
    "#general random seed\n",
    "from numpy.random import seed\n",
    "seed(123456)\n",
    "\n",
    "#tensorflow-specific seed\n",
    "import tensorflow\n",
    "tensorflow.random.set_seed(123456)"
   ]
  },
  {
   "cell_type": "markdown",
   "metadata": {},
   "source": [
    "# The Iris dataset\n",
    "\n",
    "The dataset we are going to use is very famous. It was published by Robert Fisher in 1936 together with the paper [The use of multiple measurements in taxonomic problems](https://onlinelibrary.wiley.com/doi/abs/10.1111/j.1469-1809.1936.tb02137.x). Data are public and nowadays this dataset is shipped with many statistical software and packages. We are going to use the copy coming with [sci-kit learn](https://scikit-learn.org/stable/modules/generated/sklearn.datasets.load_iris.html#sklearn.datasets.load_iris)."
   ]
  },
  {
   "cell_type": "code",
   "execution_count": 2,
   "metadata": {},
   "outputs": [],
   "source": [
    "import sklearn.datasets\n",
    "iris = sklearn.datasets.load_iris(return_X_y = False, as_frame = True)"
   ]
  },
  {
   "cell_type": "markdown",
   "metadata": {},
   "source": [
    "The variable `iris` is now a [bunch object](https://scikit-learn.org/stable/modules/generated/sklearn.utils.Bunch.html#sklearn.utils.Bunch) and contains all the required data."
   ]
  },
  {
   "cell_type": "code",
   "execution_count": 3,
   "metadata": {},
   "outputs": [],
   "source": [
    "#uncomment the following instruction to print a detailed description\n",
    "#of the Iris dataset, here omitted for compactness\n",
    "#print(iris.DESCR)"
   ]
  },
  {
   "cell_type": "markdown",
   "metadata": {},
   "source": [
    "The dataset describes 150 flower samples, belonging to three species of Iris (Iris setosa, Iris virginica and Iris versicolor). Four features were measured from each sample: the length and the width of the sepals and of the petals, in centimeters. Features are found in the attribute `.data` of the returned bunch object:"
   ]
  },
  {
   "cell_type": "code",
   "execution_count": 4,
   "metadata": {},
   "outputs": [
    {
     "name": "stdout",
     "output_type": "stream",
     "text": [
      "Shape of the feature table: (150, 4)\n"
     ]
    }
   ],
   "source": [
    "print('Shape of the feature table: ' + str(iris.data.shape))"
   ]
  },
  {
   "cell_type": "markdown",
   "metadata": {},
   "source": [
    "We can take a look at the actual numbers:"
   ]
  },
  {
   "cell_type": "code",
   "execution_count": 5,
   "metadata": {},
   "outputs": [
    {
     "name": "stdout",
     "output_type": "stream",
     "text": [
      "     sepal length (cm)  sepal width (cm)  petal length (cm)  petal width (cm)\n",
      "0                  5.1               3.5                1.4               0.2\n",
      "1                  4.9               3.0                1.4               0.2\n",
      "2                  4.7               3.2                1.3               0.2\n",
      "3                  4.6               3.1                1.5               0.2\n",
      "4                  5.0               3.6                1.4               0.2\n",
      "..                 ...               ...                ...               ...\n",
      "145                6.7               3.0                5.2               2.3\n",
      "146                6.3               2.5                5.0               1.9\n",
      "147                6.5               3.0                5.2               2.0\n",
      "148                6.2               3.4                5.4               2.3\n",
      "149                5.9               3.0                5.1               1.8\n",
      "\n",
      "[150 rows x 4 columns]\n"
     ]
    }
   ],
   "source": [
    "print(iris.data)"
   ]
  },
  {
   "cell_type": "markdown",
   "metadata": {},
   "source": [
    "As said above, each of the 150 lines represents a different flower, each belonging to one of the three Iris species. The species will be our target, the class that we are trying to predict. Let's take a look into the dataset:"
   ]
  },
  {
   "cell_type": "code",
   "execution_count": 6,
   "metadata": {},
   "outputs": [
    {
     "name": "stdout",
     "output_type": "stream",
     "text": [
      "Shape of the target variable: (150,)\n",
      "Names for each class: ['setosa' 'versicolor' 'virginica']\n",
      "Numerosity for each class: Counter({0: 50, 1: 50, 2: 50})\n"
     ]
    }
   ],
   "source": [
    "print('Shape of the target variable: ' + str(iris.target.shape))\n",
    "print('Names for each class: ' + str(iris.target_names))\n",
    "\n",
    "#using Counter object to print a tally of the classes\n",
    "from collections import Counter\n",
    "print('Numerosity for each class: ' + str(Counter(iris.target)))"
   ]
  },
  {
   "cell_type": "markdown",
   "metadata": {},
   "source": [
    "Classes are represented via a numeric index: 0 for *setosa*, 1 for *versicolor*, 2 for *virginica*. The samples are presented in order, with the first 50 samples being *setosa*, then 50 *versicolor* and the last 50 being *virginica*.\n",
    "\n",
    "Always when working with a new dataset it is importat to plot the data if possible. We are unfortunately talking about a 5-dimensional dataset (the four features + the target class) which is not easily representable. One solution in these cases is to slice a subset of the whole dataset.\n",
    "\n",
    "In the following code we'll plot two features at a time, plus the class."
   ]
  },
  {
   "cell_type": "code",
   "execution_count": 7,
   "metadata": {},
   "outputs": [
    {
     "data": {
      "image/png": "[encoded data removed]",
      "text/plain": [
       "<Figure size 432x288 with 1 Axes>"
      ]
     },
     "metadata": {
      "needs_background": "light"
     },
     "output_type": "display_data"
    }
   ],
   "source": [
    "#change these two values to plot different features, remembering the numbering:\n",
    "# 0 : sepal length (cm)\n",
    "# 1 : sepal width (cm)\n",
    "# 2 : petal length (cm)\n",
    "# 3 : petal width (cm)\n",
    "feature_x = 0\n",
    "feature_y = 1\n",
    "\n",
    "#old reliable pyplot!\n",
    "import matplotlib.pyplot as plt\n",
    "\n",
    "#starting a new plot\n",
    "fig, ax = plt.subplots()\n",
    "\n",
    "#adding data in three bunches of 50, once per class\n",
    "ax.scatter(x=iris.data.iloc[0:50,feature_x],    y=iris.data.iloc[0:50,feature_y],    c='red',   label=iris.target_names[0])\n",
    "ax.scatter(x=iris.data.iloc[50:100,feature_x],  y=iris.data.iloc[50:100,feature_y],  c='green', label=iris.target_names[1])\n",
    "ax.scatter(x=iris.data.iloc[100:150,feature_x], y=iris.data.iloc[100:150,feature_y], c='blue',  label=iris.target_names[2])\n",
    "\n",
    "#the axis names are taken from feature names\n",
    "ax.set_xlabel(iris.feature_names[feature_x])\n",
    "ax.set_ylabel(iris.feature_names[feature_y])\n",
    "\n",
    "#adding the legend and printing the plot\n",
    "ax.legend()\n",
    "plt.show()"
   ]
  },
  {
   "cell_type": "markdown",
   "metadata": {},
   "source": [
    "The plot shows clearly that setosa is quite separate from the other two classes. Even chosing other features for the plot the general result is similar.\n",
    "\n",
    "To be totally frank, this dataset is quite simple. In fact even if it's not possible to easily plot everything, using the four features most classifier can reach very close to 100% accuracy, especially when trying to separate Setosa from the other species.\n",
    "\n",
    "To make things a little more interesting we decide to renounce to half of our features. Moreover, we join together Setosa and Versicolor. In other words, we want a classifier able to discriminate Virginica from the other irises:"
   ]
  },
  {
   "cell_type": "code",
   "execution_count": 8,
   "metadata": {},
   "outputs": [],
   "source": [
    "#simplifly the problem: less classes, less variables\n",
    "features = iris.data.iloc[:, 0:2]\n",
    "target = iris.target\n",
    "\n",
    "#this makes things difficult. For an easier problems set versicolor as virginica\n",
    "target[50:100] = 0 \n",
    "target[100:150] = 1"
   ]
  },
  {
   "cell_type": "markdown",
   "metadata": {},
   "source": [
    "Let's take a look at the new dataset:"
   ]
  },
  {
   "cell_type": "code",
   "execution_count": 9,
   "metadata": {},
   "outputs": [
    {
     "data": {
      "image/png": "[encoded data removed]",
      "text/plain": [
       "<Figure size 432x288 with 1 Axes>"
      ]
     },
     "metadata": {
      "needs_background": "light"
     },
     "output_type": "display_data"
    }
   ],
   "source": [
    "#starting a new plot\n",
    "fig, ax = plt.subplots()\n",
    "\n",
    "#adding data in two bunches\n",
    "ax.scatter(x=features.iloc[0:100,0],   y=features.iloc[0:100,1],   c='red',  label='Not virginica')\n",
    "ax.scatter(x=features.iloc[100:150,0], y=features.iloc[100:150,1], c='blue', label='virginica')\n",
    "\n",
    "#the axis names are taken from feature names\n",
    "ax.set_xlabel(iris.feature_names[feature_x])\n",
    "ax.set_ylabel(iris.feature_names[feature_y])\n",
    "\n",
    "#adding the legend and printing the plot\n",
    "ax.legend()\n",
    "plt.show()"
   ]
  },
  {
   "cell_type": "markdown",
   "metadata": {},
   "source": [
    "Things are getting interesting! This is now a difficult problem and there is no clear cut solution. Let's proceed."
   ]
  },
  {
   "cell_type": "markdown",
   "metadata": {},
   "source": [
    "# Training and validation set\n",
    "\n",
    "Each time there is some kind of \"learning\" involved we need to split our data. A subset will be used for training, and a subset will be used for validation. (there may be room for another subset, the \"test set\", but we are not talking about it now).\n",
    "\n",
    "In our current dataset the samples are sorted by class: the first 100 are from \"Not virginica\" class, and the remaining 50 are from virginica. We want to keep this 2:1 proportion (roughly) the same in both train and validation set."
   ]
  },
  {
   "cell_type": "code",
   "execution_count": 10,
   "metadata": {},
   "outputs": [
    {
     "name": "stdout",
     "output_type": "stream",
     "text": [
      "Counter({0: 100})\n"
     ]
    }
   ],
   "source": [
    "#selecting the first 100 samples for training would be a bad choice...\n",
    "print(Counter(iris.target[0:100]))"
   ]
  },
  {
   "cell_type": "markdown",
   "metadata": {},
   "source": [
    "To do so we are going to use what is called a [stratified approach](https://machinelearningmastery.com/cross-validation-for-imbalanced-classification/) using a [StratifiedShuffleSplit](https://scikit-learn.org/stable/modules/generated/sklearn.model_selection.StratifiedShuffleSplit.html) object from Sci-kit learn:"
   ]
  },
  {
   "cell_type": "code",
   "execution_count": 11,
   "metadata": {},
   "outputs": [
    {
     "name": "stdout",
     "output_type": "stream",
     "text": [
      "(120, 2)\n",
      "(30, 2)\n",
      "(120,)\n",
      "(30,)\n"
     ]
    }
   ],
   "source": [
    "#we want to have the same proportion of classes in both train and validation sets\n",
    "from sklearn.model_selection import StratifiedShuffleSplit\n",
    "\n",
    "#building a StratifiedShuffleSplit object (sss among friends) with 20% data\n",
    "#assigned to validation set (here called \"test\")\n",
    "sss = StratifiedShuffleSplit(n_splits=1, test_size=0.2, random_state=0)\n",
    "\n",
    "#the .split() method returns (an iterable over) two lists which can be\n",
    "#used to index the samples that go into train and validation sets\n",
    "for train_index, val_index in sss.split(features, target):\n",
    "    features_train = features.iloc[train_index, :]\n",
    "    features_val   = features.iloc[val_index, :]\n",
    "    target_train   = target[train_index]\n",
    "    target_val     = target[val_index]\n",
    "    \n",
    "#let's print some shapes to get an idea of the resulting data structure\n",
    "print(features_train.shape)\n",
    "print(features_val.shape)\n",
    "print(target_train.shape)\n",
    "print(target_val.shape)"
   ]
  },
  {
   "cell_type": "markdown",
   "metadata": {},
   "source": [
    "It appears that we are using 20% of our data (30 out of 150) for the validation set and the other 80% for the train set."
   ]
  },
  {
   "cell_type": "markdown",
   "metadata": {},
   "source": [
    "## Logistic regression using Keras\n",
    "\n",
    "While most statistical packets implement some form of logistic regression in this exercise we are interested in using Keras, which is a library aimed to (Deep) Neural Networks.  \n",
    "Actually logistic regression plays an important role in neural networks and it's typically used in the last (or second to last) layer of a classifier. For more details on how to use keras a good starting point is the [documentation on training and evaluation](https://www.tensorflow.org/guide/keras/train_and_evaluate).\n",
    "\n",
    "Our neural network will be very easy and very minimal, and will be comprised of only one node (neuron) implementing both regression and sigmoid function. \n",
    "\n",
    "<img src=\"../data/sigmoid_neuron.png\">\n",
    "\n",
    "We are now ready to build the model! "
   ]
  },
  {
   "cell_type": "code",
   "execution_count": 12,
   "metadata": {},
   "outputs": [],
   "source": [
    "#we are building a \"sequential\" model, meaning that the data will \n",
    "#flow like INPUT -> ELABORATION -> OUTPUT. In particular, we will\n",
    "#not have any loops, i.e. our output will never be recycled as\n",
    "#input for the first layer\n",
    "from keras.models import Sequential\n",
    "\n",
    "#a \"dense\" layer is a layer were all the data coming in are connected\n",
    "#to all nodes. In our case there is only one node in the layer, and\n",
    "#it receives all the features\n",
    "from keras.layers import Dense\n",
    "\n",
    "# 2-class logistic regression in Keras\n",
    "model = Sequential()\n",
    "model.add(Dense(1, activation='sigmoid', input_dim=features_train.shape[1]))\n",
    "\n",
    "#the model is declared, but we still need to compile it to actually\n",
    "#build all the data structures\n",
    "model.compile(optimizer='rmsprop', loss='binary_crossentropy')"
   ]
  },
  {
   "cell_type": "markdown",
   "metadata": {},
   "source": [
    "We have now prepared everything we need. We are now ready to train the model on our data. It's an iterative process that cycles many times through what are called `epochs`. We'll start with ten:"
   ]
  },
  {
   "cell_type": "code",
   "execution_count": 13,
   "metadata": {},
   "outputs": [
    {
     "name": "stdout",
     "output_type": "stream",
     "text": [
      "Epoch 1/10\n",
      "4/4 [==============================] - 0s 33ms/step - loss: 4.0232 - val_loss: 4.0070\n",
      "Epoch 2/10\n",
      "4/4 [==============================] - 0s 5ms/step - loss: 3.9767 - val_loss: 3.9709\n",
      "Epoch 3/10\n",
      "4/4 [==============================] - 0s 6ms/step - loss: 3.9427 - val_loss: 3.9396\n",
      "Epoch 4/10\n",
      "4/4 [==============================] - 0s 6ms/step - loss: 3.9123 - val_loss: 3.9105\n",
      "Epoch 5/10\n",
      "4/4 [==============================] - 0s 5ms/step - loss: 3.8838 - val_loss: 3.8824\n",
      "Epoch 6/10\n",
      "4/4 [==============================] - 0s 5ms/step - loss: 3.8564 - val_loss: 3.8560\n",
      "Epoch 7/10\n",
      "4/4 [==============================] - 0s 6ms/step - loss: 3.8304 - val_loss: 3.8301\n",
      "Epoch 8/10\n",
      "4/4 [==============================] - 0s 5ms/step - loss: 3.8047 - val_loss: 3.8044\n",
      "Epoch 9/10\n",
      "4/4 [==============================] - 0s 5ms/step - loss: 3.7792 - val_loss: 3.7793\n",
      "Epoch 10/10\n",
      "4/4 [==============================] - 0s 5ms/step - loss: 3.7541 - val_loss: 3.7539\n"
     ]
    }
   ],
   "source": [
    "history = model.fit(features_train, target_train, epochs=10, validation_data=(features_val, target_val))"
   ]
  },
  {
   "cell_type": "markdown",
   "metadata": {},
   "source": [
    "We asked for ten epochs and the network did just that. At each iteration the network is trying really hard to minimize a [value called \"loss\"](https://keras.io/api/losses/). The specifics are defined by our choice of loss function (we selected `binary_crossentropy`). The basic idea is that the smaller the loss the better the fit.\n",
    "\n",
    "Note that the network minimizes the loss on the training set and does not use the validation set during the learning process. It can however measure the loss on the validation set to give us an idea on how well it can generalize on new data.\n",
    "\n",
    "It's handy at this point to define a function that takes in the `history` object returned by `.fit()` and plot it"
   ]
  },
  {
   "cell_type": "code",
   "execution_count": 14,
   "metadata": {},
   "outputs": [],
   "source": [
    "#function to take a look at losses evolution\n",
    "def plot_loss_history(h, title):\n",
    "    plt.plot(h.history['loss'], label = \"Train loss\")\n",
    "    plt.plot(h.history['val_loss'], label = \"Validation loss\")\n",
    "    plt.xlabel('Epochs')\n",
    "    plt.title(title)\n",
    "    plt.legend()\n",
    "    plt.show()"
   ]
  },
  {
   "cell_type": "code",
   "execution_count": 15,
   "metadata": {},
   "outputs": [
    {
     "data": {
      "image/png": "[encoded data removed]",
      "text/plain": [
       "<Figure size 432x288 with 1 Axes>"
      ]
     },
     "metadata": {
      "needs_background": "light"
     },
     "output_type": "display_data"
    }
   ],
   "source": [
    "plot_loss_history(history, 'Logistic (10 epochs)')"
   ]
  },
  {
   "cell_type": "markdown",
   "metadata": {},
   "source": [
    "The good news is that loss just goes down, both in train and validation set. We can keep training - without recompiling, we just add new epochs to our network."
   ]
  },
  {
   "cell_type": "code",
   "execution_count": 16,
   "metadata": {},
   "outputs": [],
   "source": [
    "#putting verbose to 0 to avoid filling the screen\n",
    "history2 = model.fit(features_train, target_train, epochs=490, \n",
    "                     validation_data=(features_val, target_val), verbose=0)"
   ]
  },
  {
   "cell_type": "markdown",
   "metadata": {},
   "source": [
    "Let's see if we improved:"
   ]
  },
  {
   "cell_type": "code",
   "execution_count": 17,
   "metadata": {},
   "outputs": [
    {
     "data": {
      "image/png": "[encoded data removed]",
      "text/plain": [
       "<Figure size 432x288 with 1 Axes>"
      ]
     },
     "metadata": {
      "needs_background": "light"
     },
     "output_type": "display_data"
    }
   ],
   "source": [
    "#putting together the whole history\n",
    "history.history['loss'] += history2.history['loss']\n",
    "history.history['val_loss'] += history2.history['val_loss']\n",
    "\n",
    "#and plotting again\n",
    "plot_loss_history(history, 'Logistic (500 epochs)')"
   ]
  },
  {
   "cell_type": "markdown",
   "metadata": {},
   "source": [
    "This is very informative: losses keep shrinking, meaning that the network keeps improving. However after a first phase of steep improvement the gain for each epoch slows down considerably.\n",
    "\n",
    "Moreover, we now see a clear difference between train and validation set. This means that, while the network keeps improving, its performances on new data are expected to be worse than on the training data.\n",
    "\n",
    "Now, we could ask: what happens if we keep training for a long time? We have prepared the code for 10000 epochs, but it takes a long time to run, and it's faster if we simply show the saved results (but you can try to run it putting the following flag to `True`):"
   ]
  },
  {
   "cell_type": "code",
   "execution_count": 18,
   "metadata": {},
   "outputs": [],
   "source": [
    "do_10000_epochs = False"
   ]
  },
  {
   "cell_type": "code",
   "execution_count": 19,
   "metadata": {},
   "outputs": [],
   "source": [
    "#what happens if we keep going for a (very) long time?\n",
    "if (do_10000_epochs):\n",
    "    #train for 10000 epochs, just to show how the model evolves\n",
    "    history3 = model.fit(features_train, target_train, epochs=9500, \n",
    "                         validation_data=(features_val, target_val), verbose=0)\n",
    "\n",
    "    #putting together the whole history\n",
    "    history.history['loss'] += history3.history['loss']\n",
    "    history.history['val_loss'] += history3.history['val_loss']\n",
    "\n",
    "    #and plotting again\n",
    "    plot_loss_history(history, 'Logistic (10000 epochs)')"
   ]
  },
  {
   "cell_type": "markdown",
   "metadata": {},
   "source": [
    "![regression_10000_epochs](../data/regression_loss10000.png \"regression_10000_epochs\")"
   ]
  },
  {
   "cell_type": "markdown",
   "metadata": {},
   "source": [
    "It appears that there is constant, slow improvement on training set. Improvement on validation set is slower, and if we had the patience to go for a veeeery long time the orange curve would become completely flat. "
   ]
  },
  {
   "cell_type": "markdown",
   "metadata": {},
   "source": [
    "## Decision Boundary\n",
    "\n",
    "The assignment also ask us to plot the [decision boundary](https://en.wikipedia.org/wiki/Decision_boundary), i.e. a representation in the feature space of the criterions the model is using to classify your data. For this task we'll use the [mlxtend module](http://rasbt.github.io/mlxtend/)"
   ]
  },
  {
   "cell_type": "code",
   "execution_count": 20,
   "metadata": {},
   "outputs": [
    {
     "data": {
      "image/png": "[encoded data removed]",
      "text/plain": [
       "<Figure size 432x288 with 1 Axes>"
      ]
     },
     "metadata": {
      "needs_background": "light"
     },
     "output_type": "display_data"
    }
   ],
   "source": [
    "from mlxtend.plotting import plot_decision_regions\n",
    "\n",
    "#we'll print the training set\n",
    "plot_decision_regions(features_train.to_numpy(), target_train.to_numpy(), clf=model, legend=2)\n",
    "plt.title('Decision boundary for 0 (non virginica) vs 1 (virginica)')\n",
    "plt.xlabel(iris.feature_names[feature_x])\n",
    "plt.ylabel(iris.feature_names[feature_y])\n",
    "plt.show()"
   ]
  },
  {
   "cell_type": "markdown",
   "metadata": {},
   "source": [
    "The decision boundary is linear, as expected by logistic regression. This means that all samples in the pink area will be classified as 2 (virginica) and all points in the blue area be considered 0 (non virginica).\n",
    "\n",
    "Note that many non-virginica samples are in the pink area. The problem was very difficult (and not linearly separable, meaning there is no way to easily draw a straight line that separates the sample classes). "
   ]
  },
  {
   "cell_type": "markdown",
   "metadata": {},
   "source": [
    "## Actual predictions\n",
    "\n",
    "Any model is only useful when its used to predict new, unknown data. In fact the whole validation set was put apart and not really used for training for this specific reason. \n",
    "\n",
    "Luckily, it's very easy to apply a trained model to new values via the [predict() method](https://keras.io/api/models/model_training_apis/#predict-method)."
   ]
  },
  {
   "cell_type": "code",
   "execution_count": 21,
   "metadata": {},
   "outputs": [
    {
     "name": "stdout",
     "output_type": "stream",
     "text": [
      "[[0.2165803 ]\n",
      " [0.41897225]\n",
      " [0.29088372]\n",
      " [0.5746832 ]\n",
      " [0.15154108]\n",
      " [0.1846622 ]\n",
      " [0.41897225]\n",
      " [0.29880953]\n",
      " [0.4988738 ]\n",
      " [0.6324164 ]\n",
      " [0.2830832 ]\n",
      " [0.3421774 ]\n",
      " [0.17345732]\n",
      " [0.3546907 ]\n",
      " [0.45443946]\n",
      " [0.46390626]\n",
      " [0.4893447 ]\n",
      " [0.10867959]\n",
      " [0.09695336]\n",
      " [0.4534174 ]\n",
      " [0.45968112]\n",
      " [0.38639656]\n",
      " [0.34601414]\n",
      " [0.4450054 ]\n",
      " [0.10704383]\n",
      " [0.32613277]\n",
      " [0.13839477]\n",
      " [0.50415444]\n",
      " [0.1931062 ]\n",
      " [0.09695336]]\n"
     ]
    }
   ],
   "source": [
    "predictions = model.predict(features_val)\n",
    "print(predictions)"
   ]
  },
  {
   "cell_type": "markdown",
   "metadata": {},
   "source": [
    "This list of prediction (sometimes called Ŷ) must be compared with the true classes for our validation set (sometimes called Y)."
   ]
  },
  {
   "cell_type": "code",
   "execution_count": 22,
   "metadata": {},
   "outputs": [
    {
     "data": {
      "image/png": "[encoded data removed]",
      "text/plain": [
       "<Figure size 432x288 with 1 Axes>"
      ]
     },
     "metadata": {
      "needs_background": "light"
     },
     "output_type": "display_data"
    }
   ],
   "source": [
    "#starting a new plot\n",
    "fig, ax = plt.subplots()\n",
    "\n",
    "#adding data in two bunches\n",
    "ax.scatter(x=range(30), y=predictions, c='red',  label='predictions')\n",
    "ax.scatter(x=range(30), y=target_val, c='blue',  label='true classes')\n",
    "\n",
    "#adding the legend and printing the plot\n",
    "ax.legend()\n",
    "plt.show()"
   ]
  },
  {
   "cell_type": "markdown",
   "metadata": {},
   "source": [
    "## Regularization"
   ]
  },
  {
   "cell_type": "code",
   "execution_count": 23,
   "metadata": {},
   "outputs": [],
   "source": [
    "if (do_10000_epochs):\n",
    "    # logistic regression with L1 and L2 regularization\n",
    "    from tensorflow.keras import regularizers\n",
    "    model = Sequential()\n",
    "    model.add(Dense(1, activation='sigmoid', input_dim=features_train.shape[1], \n",
    "                    kernel_regularizer=regularizers.l1_l2(l1=1e-4, l2=1e-5)))\n",
    "    model.compile(optimizer='rmsprop', loss='binary_crossentropy')\n",
    "    history_reg = model.fit(features_train, target_train, epochs=10000, \n",
    "                            validation_data=(features_val, target_val), verbose=0)\n",
    "    #and plotting it\n",
    "    plot_loss_history(history_reg, 'Logistic + L1L2 reg (10000 epochs)')"
   ]
  },
  {
   "cell_type": "markdown",
   "metadata": {},
   "source": [
    "![regression_L1L2_10000_epochs](../data/regression_loss10000_regL1L2.png \"regression_L1L2_10000_epochs\")"
   ]
  },
  {
   "cell_type": "code",
   "execution_count": 24,
   "metadata": {},
   "outputs": [],
   "source": [
    "if (do_10000_epochs):\n",
    "    plt.plot(history.history['loss'], label = \"Train loss\")\n",
    "    plt.plot(history_reg.history['loss'], label = \"Train loss with regularization\")\n",
    "    plt.xlabel('Epochs')\n",
    "    plt.legend()\n",
    "    plt.show()\n",
    "\n",
    "    plt.plot(history.history['val_loss'], label = \"Validation loss\")\n",
    "    plt.plot(history_reg.history['val_loss'], label = \"Validation loss with regularization\")\n",
    "    plt.xlabel('Epochs')\n",
    "    plt.legend()\n",
    "    plt.show()"
   ]
  },
  {
   "cell_type": "markdown",
   "metadata": {},
   "source": [
    "![comparison_on_train_loss](../data/comparison_train_loss.png \"Comparison on train-set Loss\")\n",
    "![comparison_on_val_loss](../data/comparison_val_loss.png \"Comparison on validation-set Loss\")"
   ]
  },
  {
   "cell_type": "code",
   "execution_count": 25,
   "metadata": {},
   "outputs": [],
   "source": [
    "#implement logistic regression from scratch, without keras\n",
    "#https://towardsdatascience.com/a-logistic-regression-from-scratch-3824468b1f88"
   ]
  }
 ],
 "metadata": {
  "kernelspec": {
   "display_name": "Python 3",
   "language": "python",
   "name": "python3"
  },
  "language_info": {
   "codemirror_mode": {
    "name": "ipython",
    "version": 3
   },
   "file_extension": ".py",
   "mimetype": "text/x-python",
   "name": "python",
   "nbconvert_exporter": "python",
   "pygments_lexer": "ipython3",
   "version": "3.8.2"
  }
 },
 "nbformat": 4,
 "nbformat_minor": 4
}
